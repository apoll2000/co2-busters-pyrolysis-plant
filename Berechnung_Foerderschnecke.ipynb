{
 "cells": [
  {
   "cell_type": "code",
   "execution_count": 12,
   "id": "d526a058-e9d5-43b2-8212-6c1b180715e4",
   "metadata": {},
   "outputs": [],
   "source": [
    "#Variablen \n",
    "#zu 1.\n",
    "#Schneckaussendurchmesser\n",
    "D = 0.1 #in m\n",
    "#Drehzahl der Schneckenwelle \n",
    "n = 6 #in 1/min\n",
    "#Füllungsgrad von 0,15...0,45 - höhere Werte bei leicht fließenden Fördergütern mit geringer Reibung\n",
    "phi = 0.2\n",
    "#Geschwindigkeitsbeiwert - er berücksichtigt das Zurückbleiben des Fördergutes gegenüber der Schnecke analog dem Trogkettenförderer\n",
    "#Vollschnecken: c ungefähr 1, Bandschnecken: c ungefähr 0,8 ... 0,9, Segmentschnecken: 0,5 ... 0,8 \n",
    "c = 1\n",
    "#Schneckensteigung - (0,5 ... 1,0)D\n",
    "s = 0.9*D\n",
    "\n",
    "#zu 2. \n",
    "l = 1 #Förderlänge in m  \n",
    "fges = 3 #Verschiebewiderstand in 1 (zwischen Abwasserschlamm und Schlamm) \n",
    "h = 0 #Höhendifferenz zwischen Gutauf- und Abgabe  \n",
    "eta = 0.8 #Leistungfaktor in 1 \n",
    "dp = 650 #Dichte Holzpellets nach DIN 51731 in kg/m^3\n",
    "g = 9.81 \n",
    "\n",
    "#Bibilotheken \n",
    "from math import pi"
   ]
  },
  {
   "cell_type": "markdown",
   "id": "682cf956-9d38-4b7a-99de-7f24e2cbc924",
   "metadata": {
    "tags": []
   },
   "source": [
    "## 1. Berechnung Volumenstrom "
   ]
  },
  {
   "cell_type": "code",
   "execution_count": 17,
   "id": "e5ae94d6-8207-4553-9c4c-2566009d56d6",
   "metadata": {},
   "outputs": [
    {
     "name": "stdout",
     "output_type": "stream",
     "text": [
      "A: 0.00785 m^2\n",
      "Vp: 0.000848 m^3\n"
     ]
    }
   ],
   "source": [
    "#Schneckenquerschnitt\n",
    "A = (pi*D**2)/4\n",
    "print(f'A: {A:.3} m^2')\n",
    "#Volumenstrom \n",
    "Vp = A * s * n * phi * c \n",
    "print(f'Vp: {Vp:.3} m^3')"
   ]
  },
  {
   "cell_type": "markdown",
   "id": "e7e36a6c-791f-4865-8ed7-963a06855ff9",
   "metadata": {},
   "source": [
    "## 2. Antriebsleistung"
   ]
  },
  {
   "cell_type": "code",
   "execution_count": 25,
   "id": "495be0b6-9b69-409f-9e6d-821daa63d0e6",
   "metadata": {},
   "outputs": [
    {
     "name": "stdout",
     "output_type": "stream",
     "text": [
      "m: 2.55 kg\n",
      "Pn: 125.2 W\n",
      "Mn: 199.27 Nm\n"
     ]
    }
   ],
   "source": [
    "#grobe Abschätzung für m \n",
    "Vp = (A*l)/2 #Pelletvolumen bei halb voller Schnecke \n",
    "m = Vp * dp\n",
    "print(f'm: {m:.3} kg')\n",
    "#Antriebsleistung\n",
    "Pn = (m*9.81*(l*fges+h))/eta \n",
    "print(f'Pn: {Pn:.5} W')\n",
    "#resultierendes Moment\n",
    "Mn = Pn/(2*pi*(n/60))\n",
    "print(f'Mn: {Mn:.5} Nm')"
   ]
  }
 ],
 "metadata": {
  "kernelspec": {
   "display_name": "Python 3 (ipykernel)",
   "language": "python",
   "name": "python3"
  },
  "language_info": {
   "codemirror_mode": {
    "name": "ipython",
    "version": 3
   },
   "file_extension": ".py",
   "mimetype": "text/x-python",
   "name": "python",
   "nbconvert_exporter": "python",
   "pygments_lexer": "ipython3",
   "version": "3.8.13"
  }
 },
 "nbformat": 4,
 "nbformat_minor": 5
}
